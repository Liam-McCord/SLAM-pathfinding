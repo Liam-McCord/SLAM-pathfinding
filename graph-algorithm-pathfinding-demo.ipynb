{
 "cells": [
  {
   "cell_type": "code",
   "execution_count": 1,
   "metadata": {},
   "outputs": [],
   "source": [
    "import numpy as np\n",
    "import matplotlib.pyplot as plt"
   ]
  },
  {
   "cell_type": "code",
   "execution_count": 2,
   "metadata": {},
   "outputs": [],
   "source": [
    "def halton_sequence(b):\n",
    "    \"\"\"Generator function for Halton sequence.\"\"\"\n",
    "    n, d = 0, 1\n",
    "    while True:\n",
    "        x = d - n\n",
    "        if x == 1:\n",
    "            n = 1\n",
    "            d *= b\n",
    "        else:\n",
    "            y = d // b\n",
    "            while x <= y:\n",
    "                y //= b\n",
    "            n = (b + 1) * y - x\n",
    "        yield n / d"
   ]
  },
  {
   "cell_type": "code",
   "execution_count": 3,
   "metadata": {},
   "outputs": [
    {
     "data": {
      "image/png": "[encoded data removed]",
      "text/plain": [
       "<Figure size 640x480 with 1 Axes>"
      ]
     },
     "metadata": {},
     "output_type": "display_data"
    }
   ],
   "source": [
    "point_density = 100\n",
    "point_range = np.linspace(1, point_density)\n",
    "axes = plt.axes()\n",
    "\n",
    "halton_2_points = []\n",
    "halton_3_points = []\n",
    "start_point = [0,0]\n",
    "final_point = [0.999,0.9999]\n",
    "counter = 0\n",
    "for i in halton_sequence(2):\n",
    "    counter += 1\n",
    "    if counter < point_density:\n",
    "        halton_2_points.append(i)\n",
    "    else:\n",
    "        break\n",
    "counter = 0\n",
    "for i in halton_sequence(3):\n",
    "    counter += 1\n",
    "    if counter < point_density:\n",
    "        halton_3_points.append(i)\n",
    "    else:\n",
    "        break\n",
    "    \n",
    "    \n",
    "x_array = np.array([start_point[0]] + halton_2_points + [final_point[0]])\n",
    "y_array = np.array([start_point[1]] + halton_3_points + [final_point[1]])\n",
    "#print(len(np.linspace(0,1,point_density-1)))\n",
    "#print(len(point_array))\n",
    "#print(len(x_array), len(y_array))\n",
    "#print(x_array)\n",
    "#axes.scatter(np.linspace(0,1,point_density-1), point_array)\n",
    "#print(halton_sequence(point_ra3nge))\n",
    "#points = point_range, halton_sequence(point_range)"
   ]
  },
  {
   "cell_type": "code",
   "execution_count": 4,
   "metadata": {},
   "outputs": [
    {
     "name": "stdout",
     "output_type": "stream",
     "text": [
      "[[1.         0.         0.60092521 ... 0.96940426 0.77737966 1.41343589]\n",
      " [0.         1.         0.60092521 ... 0.96940426 0.77737966 1.41343589]\n",
      " [0.60092521 0.60092521 1.         ... 0.63827172 0.37398736 0.83265366]\n",
      " ...\n",
      " [0.96940426 0.96940426 0.63827172 ... 1.         0.98775077 0.72891783]\n",
      " [0.77737966 0.77737966 0.37398736 ... 0.98775077 1.         0.9489094 ]\n",
      " [1.41343589 1.41343589 0.83265366 ... 0.72891783 0.9489094  1.        ]]\n"
     ]
    }
   ],
   "source": [
    "class PointGraph():\n",
    "    def __init__(self, coordinates, connections=None):\n",
    "        self.coordinates = coordinates\n",
    "        self.connections = connections\n",
    "    def __repr__(self):\n",
    "        return f\"{self.coordinates}\" \n",
    "    def abs_distance(self,other):\n",
    "        distance = np.linalg.norm(self.coordinates - other.coordinates)\n",
    "        return distance\n",
    "    \n",
    "    \n",
    "    \n",
    "#halton_tuples = (halton_2_array[:], halton_3_array[:])\n",
    "#print(halton_tuples[0])\n",
    "halton_points = [PointGraph(np.array([0,0]))]\n",
    "for i in range(len(x_array)):\n",
    "    point_coords = np.array([x_array[i], y_array[i]])\n",
    "    halton_points.append(PointGraph(point_coords))\n",
    "#print(halton_points)\n",
    "halton_points[0].abs_distance(halton_points[1])\n",
    "\n",
    "def make_graph_array(points):\n",
    "    graph_array = np.ones([point_density + 2, point_density + 2])\n",
    "    for i in range(len(points)):\n",
    "        for j in range(len(points)):\n",
    "            if j != i:\n",
    "                graph_array[i,j] = points[i].abs_distance(points[j])\n",
    "    return graph_array\n",
    "graph_array = make_graph_array(halton_points)\n",
    "print(graph_array)\n"
   ]
  },
  {
   "cell_type": "code",
   "execution_count": 5,
   "metadata": {},
   "outputs": [
    {
     "name": "stdout",
     "output_type": "stream",
     "text": [
      "H!\n",
      "3.056022306447484\n",
      "[0, 1, 73, 37, 85, 13, 67, 61, 43, 7, 79, 2, 47, 95, 23, 59, 47, 79, 34, 2, 74, 38, 86, 14, 68, 62, 44, 8, 80, 48, 96, 24, 60, 48, 24, 72, 101]\n",
      "[1.41343589 1.41343589 0.83265366 0.81978379 0.92300958 1.0355708\n",
      " 0.43498768 0.99707509 0.461322   0.94305658 1.05718368 0.93144501\n",
      " 0.35002071 1.17644102 0.60480576 0.59121804 0.74318972 1.04997114\n",
      " 0.47356333 1.17146008 0.63123889 0.88169784 0.88387657 0.76359721\n",
      " 0.17470208 1.14653205 0.54893325 0.65629026 0.999683   1.01823139\n",
      " 0.42603867 1.02436212 0.54395165 1.00550116 0.90519866 0.85115323\n",
      " 0.25337474 1.28073836 0.71368667 0.67133547 0.84637336 1.05077138\n",
      " 0.45494472 0.99019542 0.4303406  0.79825752 0.96020215 0.79658644\n",
      " 0.25104075 1.2451258  0.6514688  0.71511864 0.72020287 0.90124683\n",
      " 0.32804802 1.13318364 0.64649221 0.94161074 0.94787773 0.8311623\n",
      " 0.24181416 1.07314488 0.49612005 0.52181413 0.93828559 1.16115546\n",
      " 0.56123087 1.11058002 0.54948878 0.88091258 0.80416218 0.72531516\n",
      " 3.         1.29402627 0.71145711 0.7180473  0.80997919 0.92438059\n",
      " 0.32778498 0.87606611 0.34972447 0.9600156  1.09687275 0.97100626\n",
      " 0.3903748  1.2164572  0.64510409 0.62424268 0.77821167 0.99959783\n",
      " 0.41156202 1.15688052 0.64255816 0.82581538 0.89034265 0.73310901\n",
      " 0.18235561 1.22237148 0.62347705 0.72891783 0.9489094  1.        ]\n"
     ]
    }
   ],
   "source": [
    "def Minimum_Spanning_Algorithm(a_graph, target_node):\n",
    "    n = target_node\n",
    "    path_cost = 0\n",
    "    path_taken = []\n",
    "    i = 0\n",
    "    j = 0\n",
    "\n",
    "    for count in range(0,200):\n",
    "        path_taken.append(i)\n",
    "        j = i\n",
    "        #print(count, i, j)\n",
    "        if i == n:\n",
    "            print(\"H!\")\n",
    "            break\n",
    "        min_value = min(a_graph[i])\n",
    "        path_cost += min_value\n",
    "        \n",
    "        i = np.argmin(a_graph[i])\n",
    "        \n",
    "        #print(i,j)\n",
    "        #print(a_graph[i,j])\n",
    "        a_graph[i,j] = 3\n",
    "        a_graph[j,i] = 3\n",
    "        #a_graph[j,:] = 1\n",
    "    print(path_cost)\n",
    "    print(path_taken)\n",
    "    print(a_graph[i])\n",
    "    return path_taken\n",
    "    \n",
    "path_taken = Minimum_Spanning_Algorithm(graph_array, point_density+1)"
   ]
  },
  {
   "cell_type": "code",
   "execution_count": null,
   "metadata": {},
   "outputs": [],
   "source": []
  },
  {
   "cell_type": "code",
   "execution_count": 6,
   "metadata": {},
   "outputs": [
    {
     "name": "stdout",
     "output_type": "stream",
     "text": [
      "[0, 1, 73, 37, 85, 13, 67, 61, 43, 7, 79, 2, 47, 95, 23, 59, 47, 79, 34, 2, 74, 38, 86, 14, 68, 62, 44, 8, 80, 48, 96, 24, 60, 48, 24, 72, 101]\n"
     ]
    },
    {
     "data": {
      "image/png": "[encoded data removed]",
      "text/plain": [
       "<Figure size 640x480 with 1 Axes>"
      ]
     },
     "metadata": {},
     "output_type": "display_data"
    }
   ],
   "source": [
    "# Path visualisation Section\n",
    "print(path_taken)\n",
    "graph_path_taken = []\n",
    "for node in path_taken:\n",
    "    graph_path_taken.append(halton_points[node].coordinates)\n",
    "array_graph_path_taken = np.array(graph_path_taken).T\n",
    "#print(array_graph_path_taken)\n",
    "axes2 = plt.axes()\n",
    "axes2.plot(array_graph_path_taken[0], array_graph_path_taken[1])\n",
    "axes2.scatter(x_array, y_array)\n",
    "plt.show()"
   ]
  },
  {
   "cell_type": "code",
   "execution_count": 7,
   "metadata": {},
   "outputs": [],
   "source": [
    "\n",
    "#points = list(zip(*[np.linspace(a[i], b[i], point_density+1) for i in range(len(a))]))\n",
    "#points = list(zip(*[np.linspace(a[i], b[i], point_density+1) for i in range(len(a))]))\n",
    "#print(points)\n",
    "#points = create_equidistant_points(a,b,5)\n",
    "#print(points)\n",
    "#axes.plot(point_range, halton_sequence(point_range))\n",
    "\n",
    "#Halton Sequence?\n"
   ]
  }
 ],
 "metadata": {
  "kernelspec": {
   "display_name": "Python 3",
   "language": "python",
   "name": "python3"
  },
  "language_info": {
   "codemirror_mode": {
    "name": "ipython",
    "version": 3
   },
   "file_extension": ".py",
   "mimetype": "text/x-python",
   "name": "python",
   "nbconvert_exporter": "python",
   "pygments_lexer": "ipython3",
   "version": "3.10.4"
  },
  "orig_nbformat": 4
 },
 "nbformat": 4,
 "nbformat_minor": 2
}
