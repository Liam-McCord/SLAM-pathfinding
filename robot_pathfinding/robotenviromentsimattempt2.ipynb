{
 "cells": [
  {
   "cell_type": "code",
   "execution_count": 1,
   "metadata": {},
   "outputs": [],
   "source": [
    "import numpy as np\n",
    "import png\n",
    "import helper_functions\n",
    "%matplotlib widget"
   ]
  },
  {
   "cell_type": "code",
   "execution_count": 2,
   "metadata": {},
   "outputs": [],
   "source": [
    "#print(helper_functions.png_to_grid(\"ExampleMap.png\"))"
   ]
  },
  {
   "cell_type": "code",
   "execution_count": 3,
   "metadata": {},
   "outputs": [],
   "source": [
    "#Create a cell system\n",
    "import matplotlib.pyplot as plt\n",
    "\n",
    "class OccupancyCellMap():\n",
    "    def __init__(self, occupancy_grid, cell_size, threshold=0.8):\n",
    "        self.grid = occupancy_grid # The actual occupancy values of the grid, scaling from 0 to 1\n",
    "        self.cell_size = cell_size # The physical size of the grid cells (dimensions are immaterial for now)\n",
    "        self.threshold = threshold # the threshold of the grid cells for them to be considered occupied\n",
    "    \n",
    "    def point_to_cell(self, coords):\n",
    "        # Gives the index of a cell in the data array given the physical coordinates\n",
    "        return round(coords[0] / self.cell_size), round(coords[1] / self.cell_size)\n",
    "\n",
    "    def return_occupancy(self, index):\n",
    "        # Returns the occupancy value of the requested index\n",
    "        return self.grid[index[0], index[1]]\n",
    "    \n",
    "    def set_occupancy(self, index, occupancy):\n",
    "        self.grid[index[0], index[1]] = occupancy\n",
    "\n",
    "    def plot_the_map(self, alpha=1, min_val=0, origin='lower'):\n",
    "        plt.imshow(self.grid, vmin=min_val, vmax=1, origin=origin, interpolation='none', alpha=alpha, cmap = \"Accent\")\n",
    "        plt.draw()\n",
    "\n",
    "        "
   ]
  },
  {
   "cell_type": "code",
   "execution_count": null,
   "metadata": {},
   "outputs": [],
   "source": []
  }
 ],
 "metadata": {
  "kernelspec": {
   "display_name": "Python 3",
   "language": "python",
   "name": "python3"
  },
  "language_info": {
   "codemirror_mode": {
    "name": "ipython",
    "version": 3
   },
   "file_extension": ".py",
   "mimetype": "text/x-python",
   "name": "python",
   "nbconvert_exporter": "python",
   "pygments_lexer": "ipython3",
   "version": "3.10.4"
  }
 },
 "nbformat": 4,
 "nbformat_minor": 2
}
