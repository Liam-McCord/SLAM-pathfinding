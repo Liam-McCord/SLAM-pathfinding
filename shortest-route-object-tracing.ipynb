{
 "cells": [
  {
   "cell_type": "code",
   "execution_count": 1,
   "metadata": {},
   "outputs": [],
   "source": [
    "import numpy as np\n",
    "import matplotlib.pyplot as plt\n",
    "import shapely as s\n",
    "import shapely.plotting as sp\n",
    "import shapely.ops as so\n",
    "%matplotlib widget\n",
    "\n",
    "#import descartes"
   ]
  },
  {
   "cell_type": "code",
   "execution_count": 2,
   "metadata": {},
   "outputs": [],
   "source": [
    "def make_a_square(coords):\n",
    "    a = coords[0]\n",
    "    b = coords[1]\n",
    "    return [(0 + a, 0 + b), (0 + a, 1 + b), (1 + a, 1 + b), (1 + a, 0 + b)]"
   ]
  },
  {
   "cell_type": "code",
   "execution_count": 3,
   "metadata": {},
   "outputs": [],
   "source": [
    "class A_Point():\n",
    "    def __init__(self, coordinates, connections=None):\n",
    "        self.coordinates = coordinates\n",
    "        self.connections = connections\n",
    "    def __repr__(self):\n",
    "        return f\"{self.coordinates}\" \n",
    "    def abs_distance(self,other):\n",
    "        distance = np.linalg.norm(self.coordinates - other.coordinates)\n",
    "        return distance\n",
    "class A_Path(A_Point):\n",
    "    def __init__(self, start_point, end_point, obstacles = [], points = []):\n",
    "        self.points = points\n",
    "        self.obstacles = obstacles\n",
    "        self.start = start_point\n",
    "        self.end = end_point\n",
    "    def make_path(self):\n",
    "        pass\n",
    "        direct_path = s.LineString([self.start, self.end])\n",
    "        self.points.append(direct_path)\n",
    "        for o in self.obstacles:\n",
    "            if s.intersects(direct_path, o):\n",
    "                print(\"Intersects!\")\n",
    "        self.graph_path()\n",
    "    def graph_path(self):\n",
    "        fig = plt.figure(1, figsize = [5,5], dpi=90)\n",
    "        \n",
    "        ax = fig.add_subplot(111)\n",
    "        ax.set_box_aspect(1)\n",
    "        #print(self.points)\n",
    "        for a_point in range(len(self.points)):\n",
    "            sp.plot_line(self.points[a_point], ax=ax, add_points=False, alpha=0.7)\n",
    "        for obstacle in self.obstacles:\n",
    "            sp.plot_polygon(obstacle, facecolor='lightblue', edgecolor='red')\n",
    "        print(so.nearest_points(self.obstacles[0], self.points[0]))\n",
    "    def make_obstacle(self, radius, coordinates):\n",
    "        obstacle = s.Polygon(make_a_square((2,3)))\n",
    "        self.obstacles.append(obstacle)"
   ]
  },
  {
   "cell_type": "code",
   "execution_count": 4,
   "metadata": {},
   "outputs": [
    {
     "name": "stdout",
     "output_type": "stream",
     "text": [
      "Intersects!\n",
      "(<POINT (3 3.75)>, <POINT (3 3.75)>)\n"
     ]
    },
    {
     "data": {
      "application/vnd.jupyter.widget-view+json": {
       "model_id": "17a03dc1344c4bb185db39d2599c23ef",
       "version_major": 2,
       "version_minor": 0
      },
      "image/png": "[encoded data removed]",
      "text/html": [
       "\n",
       "            <div style=\"display: inline-block;\">\n",
       "                <div class=\"jupyter-widgets widget-label\" style=\"text-align: center;\">\n",
       "                    Figure\n",
       "                </div>\n",
       "                <img src='data:image/png;base64,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' width=450.0/>\n",
       "            </div>\n",
       "        "
      ],
      "text/plain": [
       "Canvas(toolbar=Toolbar(toolitems=[('Home', 'Reset original view', 'home', 'home'), ('Back', 'Back to previous …"
      ]
     },
     "metadata": {},
     "output_type": "display_data"
    }
   ],
   "source": [
    "New_Path = A_Path((0,0),(4,5))\n",
    "New_Path.make_obstacle(1,1)  \n",
    "New_Path.make_path()\n"
   ]
  },
  {
   "cell_type": "markdown",
   "metadata": {},
   "source": [
    "\n",
    "\n",
    "\n",
    "point = Point(1, 1)\n",
    "line = LineString([(2, 0), (3, 6), (3, 4)])\n",
    "line2 = LineString([(4, 0), (2, 6), (5, 4)])\n",
    "point.hausdorff_distance(line)\n",
    "point.distance(Point(3, 4))\n",
    "fig = plt.figure(1, figsize = [5,5], dpi=90)\n",
    "bob = (shapely.intersection(line, line2))\n",
    "ax = fig.add_subplot(111)\n",
    "plot_line(line, ax=ax, add_points=False, color=\"b\", alpha=0.7)\n",
    "plot_line(line2, ax=ax, add_points=True, color=\"r\", alpha=0.7)\n",
    "bob2 = list(bob.geoms)\n",
    "bob2[2]\n",
    "\n",
    "joe = geometry.MultiPoint([(1,0),(3,1), (2,5)])\n",
    "joe2 = geometry.MultiPoint([(1,3),(4,1), (6,5)])\n",
    "print(joe2)\n",
    "a_square = geometry.Polygon([(0, 0), (0, 1), (1, 1), (1, 0)])\n",
    "print(a_square)\n",
    "shapely.plotting.plot_polygon(a_square, facecolor='lightblue', edgecolor='red')\n",
    "#x,y = a_square.exterior.xy\n",
    "#plt.plot(x,y)\n",
    "\n",
    "\n"
   ]
  }
 ],
 "metadata": {
  "kernelspec": {
   "display_name": "Python 3",
   "language": "python",
   "name": "python3"
  },
  "language_info": {
   "codemirror_mode": {
    "name": "ipython",
    "version": 3
   },
   "file_extension": ".py",
   "mimetype": "text/x-python",
   "name": "python",
   "nbconvert_exporter": "python",
   "pygments_lexer": "ipython3",
   "version": "3.10.4"
  },
  "orig_nbformat": 4
 },
 "nbformat": 4,
 "nbformat_minor": 2
}
